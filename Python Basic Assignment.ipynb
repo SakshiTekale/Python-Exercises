{
 "cells": [
  {
   "cell_type": "code",
   "execution_count": 1,
   "id": "632dfc7b",
   "metadata": {},
   "outputs": [
    {
     "name": "stdout",
     "output_type": "stream",
     "text": [
      "Hi,How are you?\n"
     ]
    }
   ],
   "source": [
    "a = \"Hi,How are you?\"\n",
    "print(a)"
   ]
  },
  {
   "cell_type": "code",
   "execution_count": 2,
   "id": "82ed4134",
   "metadata": {},
   "outputs": [
    {
     "name": "stdout",
     "output_type": "stream",
     "text": [
      "Hi,How are you?\n",
      "I am good, How are you?\n"
     ]
    }
   ],
   "source": [
    "a = \"Hi,How are you?\"\n",
    "print(a)\n",
    "a = \"I am good, How are you?\"\n",
    "print(a)"
   ]
  },
  {
   "cell_type": "code",
   "execution_count": 6,
   "id": "89a39889",
   "metadata": {},
   "outputs": [
    {
     "name": "stdout",
     "output_type": "stream",
     "text": [
      "Hello Eric would you like to learn some Python today?\n"
     ]
    }
   ],
   "source": [
    "s = \"Eric\"\n",
    "print(\"Hello\", s ,\"would you like to learn some Python today?\")"
   ]
  },
  {
   "cell_type": "code",
   "execution_count": 7,
   "id": "77022ccf",
   "metadata": {},
   "outputs": [
    {
     "name": "stdout",
     "output_type": "stream",
     "text": [
      "Albert Einstein once said A person who never made a mistake never tried anything new.\n"
     ]
    }
   ],
   "source": [
    "print(\"Albert Einstein once said\",\"A person who never made a mistake never tried anything new.\")"
   ]
  },
  {
   "cell_type": "code",
   "execution_count": 8,
   "id": "9d50fc73",
   "metadata": {},
   "outputs": [
    {
     "name": "stdout",
     "output_type": "stream",
     "text": [
      "Albert Einstein once said A person who never made a mistake never tried anything new.\n"
     ]
    }
   ],
   "source": [
    "famous_person = \"Albert Einstein\"\n",
    "quote =\"A person who never made a mistake never tried anything new.\"\n",
    "print(famous_person,\"once said\",quote)"
   ]
  },
  {
   "cell_type": "code",
   "execution_count": 19,
   "id": "8beb0242",
   "metadata": {},
   "outputs": [
    {
     "name": "stdout",
     "output_type": "stream",
     "text": [
      "8\n",
      "8\n",
      "8\n",
      "8\n"
     ]
    }
   ],
   "source": [
    "print(4+4)\n",
    "print(10-2)\n",
    "print(4*2)\n",
    "print(int(16/2))"
   ]
  },
  {
   "cell_type": "code",
   "execution_count": 12,
   "id": "c63a2428",
   "metadata": {},
   "outputs": [
    {
     "name": "stdout",
     "output_type": "stream",
     "text": [
      "My favourite number is 4\n"
     ]
    }
   ],
   "source": [
    "s = 4\n",
    "print(\"My favourite number is\",s)"
   ]
  },
  {
   "cell_type": "code",
   "execution_count": 13,
   "id": "112df7f0",
   "metadata": {},
   "outputs": [
    {
     "name": "stdout",
     "output_type": "stream",
     "text": [
      "sakshi\n",
      "sujal\n",
      "sheela\n",
      "sunil\n"
     ]
    }
   ],
   "source": [
    "names = ['sakshi','sujal','sheela','sunil']\n",
    "print(names[0])\n",
    "print(names[1])\n",
    "print(names[2])\n",
    "print(names[3])"
   ]
  },
  {
   "cell_type": "code",
   "execution_count": 14,
   "id": "9b3ddb68",
   "metadata": {},
   "outputs": [
    {
     "name": "stdout",
     "output_type": "stream",
     "text": [
      "Hi sakshi You are very Smart\n",
      "Hi sujal You are very Smart\n",
      "Hi sheela You are very Smart\n",
      "Hi sunil You are very Smart\n"
     ]
    }
   ],
   "source": [
    "names = ['sakshi','sujal','sheela','sunil']\n",
    "for i in names:\n",
    "    print(\"Hi\",i,\"You are very Smart\")"
   ]
  },
  {
   "cell_type": "code",
   "execution_count": 18,
   "id": "37b81053",
   "metadata": {},
   "outputs": [
    {
     "name": "stdout",
     "output_type": "stream",
     "text": [
      "I love to ride bike\n",
      "I would like to own Honda car\n",
      "I would like to travel by train\n",
      "Flight journeys are very comfortable\n"
     ]
    }
   ],
   "source": [
    "list = [\"bike\",\"car\",\"train\",\"Flight\"]\n",
    "print(\"I love to ride\",list[0])\n",
    "print(\"I would like to own Honda\",list[1])\n",
    "print(\"I would like to travel by\",list[2])\n",
    "print(list[3],\"journeys are very comfortable\")"
   ]
  },
  {
   "cell_type": "code",
   "execution_count": null,
   "id": "e0d1770a",
   "metadata": {},
   "outputs": [],
   "source": []
  }
 ],
 "metadata": {
  "kernelspec": {
   "display_name": "Python 3 (ipykernel)",
   "language": "python",
   "name": "python3"
  },
  "language_info": {
   "codemirror_mode": {
    "name": "ipython",
    "version": 3
   },
   "file_extension": ".py",
   "mimetype": "text/x-python",
   "name": "python",
   "nbconvert_exporter": "python",
   "pygments_lexer": "ipython3",
   "version": "3.9.12"
  }
 },
 "nbformat": 4,
 "nbformat_minor": 5
}
